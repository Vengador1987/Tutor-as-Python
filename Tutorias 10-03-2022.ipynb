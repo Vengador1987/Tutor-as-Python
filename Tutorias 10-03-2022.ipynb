{
 "cells": [
  {
   "cell_type": "markdown",
   "id": "98533499",
   "metadata": {},
   "source": [
    "# ¿Donde está Walid?"
   ]
  },
  {
   "cell_type": "code",
   "execution_count": 1,
   "id": "6b82874f",
   "metadata": {},
   "outputs": [],
   "source": [
    "import numpy as np\n",
    "from datetime import datetime\n",
    "\n",
    "class Empleado():\n",
    "    \n",
    "    def __init__(self, nombre, apellido, fecha_nacimiento):\n",
    "        self.nombre = nombre\n",
    "        self.apellido = apellido\n",
    "        self.fecha_nacimiento = fecha_nacimiento\n",
    "        self.edad =  (datetime.now() - datetime.strptime(fecha_nacimiento, \"%d-%m-%Y\")).days//365.25\n",
    "        self.id = np.random.randint(1000, 9999)\n",
    "        self.nominas = {} # fecha : salario\n",
    "        self.situaciones = {\"erte\" : True, \"it\" : False, \"paro\" : False} # situacion : True/False\n",
    "        \n",
    "    def pago_mes(self, fecha, salario):\n",
    "        \n",
    "        self.nominas[fecha] = salario\n",
    "        \n",
    "    def cambio_situacion(self, situacion, cambio):\n",
    "        \n",
    "        self.situaciones[situacion] = cambio"
   ]
  },
  {
   "cell_type": "code",
   "execution_count": 2,
   "id": "0cf9ddb7",
   "metadata": {},
   "outputs": [],
   "source": [
    "nombres = [\"Javier\", \"Jose\", \"Maria Jesus\", \"Sergio\", \"Alberto\", \"Daniel\"]\n",
    "apellidos = [\"Acosta\", \"Irimia\", \"Sancristan\", \"Martin\", \"Orio\", \"Tummler\"]\n",
    "edades = [\"09-04-1975\", \"31-01-1981\", \"23-02-1985\", \"25-07-1976\", \"17-02-1987\", \"11-06-1994\"]"
   ]
  },
  {
   "cell_type": "code",
   "execution_count": 3,
   "id": "ce66f4e6",
   "metadata": {},
   "outputs": [],
   "source": [
    "lista_empleados = list()\n",
    "\n",
    "for nombre, apellido, edad in zip(nombres, apellidos, edades):\n",
    "    \n",
    "    nuevo_empleado = Empleado(nombre, apellido, edad)\n",
    "    \n",
    "    lista_empleados.append(nuevo_empleado)"
   ]
  },
  {
   "cell_type": "code",
   "execution_count": 4,
   "id": "bac7415b",
   "metadata": {},
   "outputs": [
    {
     "name": "stdout",
     "output_type": "stream",
     "text": [
      "9962\n",
      "2883\n",
      "1383\n",
      "3200\n",
      "2677\n",
      "2787\n"
     ]
    }
   ],
   "source": [
    "for i in range(len(lista_empleados)):\n",
    "    print(lista_empleados[i].id)"
   ]
  },
  {
   "cell_type": "code",
   "execution_count": 5,
   "id": "be970b56",
   "metadata": {},
   "outputs": [],
   "source": [
    "fecha_nomina = \"2022-01-01\"\n",
    "\n",
    "for empleado in lista_empleados:\n",
    "    empleado.pago_mes(fecha_nomina, np.random.randint(1500, 2000))"
   ]
  },
  {
   "cell_type": "code",
   "execution_count": 6,
   "id": "3c58a9cf",
   "metadata": {},
   "outputs": [
    {
     "name": "stdout",
     "output_type": "stream",
     "text": [
      "{'2022-01-01': 1520}\n",
      "{'2022-01-01': 1598}\n",
      "{'2022-01-01': 1742}\n",
      "{'2022-01-01': 1876}\n",
      "{'2022-01-01': 1501}\n",
      "{'2022-01-01': 1875}\n"
     ]
    }
   ],
   "source": [
    "for i in range(len(lista_empleados)):\n",
    "    print(lista_empleados[i].nominas)"
   ]
  },
  {
   "cell_type": "code",
   "execution_count": 7,
   "id": "fb2484f3",
   "metadata": {},
   "outputs": [],
   "source": [
    "def buscar_empleado(lista_empleados, id_ = None, nombre = None, apellido = None):\n",
    "\n",
    "    if id_ != None:\n",
    "        for empleado in lista_empleados:\n",
    "            if empleado.id == id_:\n",
    "                return empleado\n",
    "                \n",
    "    elif nombre != None:\n",
    "        for empleado in lista_empleados:\n",
    "            if empleado.nombre == nombre:\n",
    "                return empleado\n",
    "\n",
    "    elif apellido != None:\n",
    "        for empleado in lista_empleados:\n",
    "            if empleado.apellido == apellido:\n",
    "                return empleado"
   ]
  },
  {
   "cell_type": "code",
   "execution_count": 8,
   "id": "9f5ef1fe",
   "metadata": {},
   "outputs": [
    {
     "data": {
      "text/plain": [
       "{'nombre': 'Sergio',\n",
       " 'apellido': 'Martin',\n",
       " 'fecha_nacimiento': '25-07-1976',\n",
       " 'edad': 45.0,\n",
       " 'id': 3200,\n",
       " 'nominas': {'2022-01-01': 1876},\n",
       " 'situaciones': {'erte': True, 'it': False, 'paro': False}}"
      ]
     },
     "execution_count": 8,
     "metadata": {},
     "output_type": "execute_result"
    }
   ],
   "source": [
    "buscar_empleado(lista_empleados, nombre = \"Sergio\").__dict__"
   ]
  },
  {
   "cell_type": "code",
   "execution_count": 9,
   "id": "27c9b53b",
   "metadata": {},
   "outputs": [
    {
     "data": {
      "text/plain": [
       "{'nombre': 'Sergio',\n",
       " 'apellido': 'Martin',\n",
       " 'fecha_nacimiento': '25-07-1976',\n",
       " 'edad': 45.0,\n",
       " 'id': 3200,\n",
       " 'nominas': {'2022-01-01': 1876},\n",
       " 'situaciones': {'erte': True, 'it': False, 'paro': False}}"
      ]
     },
     "execution_count": 9,
     "metadata": {},
     "output_type": "execute_result"
    }
   ],
   "source": [
    "buscar_empleado(lista_empleados, apellido = \"Martin\").__dict__"
   ]
  },
  {
   "cell_type": "code",
   "execution_count": 11,
   "id": "669ce858",
   "metadata": {},
   "outputs": [
    {
     "data": {
      "text/plain": [
       "{'nombre': 'Sergio',\n",
       " 'apellido': 'Martin',\n",
       " 'fecha_nacimiento': '25-07-1976',\n",
       " 'edad': 45.0,\n",
       " 'id': 3200,\n",
       " 'nominas': {'2022-01-01': 1876},\n",
       " 'situaciones': {'erte': True, 'it': False, 'paro': False}}"
      ]
     },
     "execution_count": 11,
     "metadata": {},
     "output_type": "execute_result"
    }
   ],
   "source": [
    "buscar_empleado(lista_empleados, id_ = 3200).__dict__"
   ]
  },
  {
   "cell_type": "code",
   "execution_count": 12,
   "id": "b2a8bed1",
   "metadata": {},
   "outputs": [],
   "source": [
    "buscar_empleado(lista_empleados, id_ = 6035467, nombre = \"Sergio\")"
   ]
  },
  {
   "cell_type": "code",
   "execution_count": 13,
   "id": "42b8ee27",
   "metadata": {},
   "outputs": [],
   "source": [
    "def nominas_empleados(lista_empleados, situacion, estado):\n",
    "    \n",
    "    lista_indices = list()\n",
    "    \n",
    "    for empleado in lista_empleados:\n",
    "        if empleado.situaciones[situacion] == True:\n",
    "            \n",
    "            lista_indices.append(empleado.id)\n",
    "            \n",
    "    for i in lista_indices:\n",
    "        print(buscar_empleado(lista_empleados, id_ = i).nominas)"
   ]
  },
  {
   "cell_type": "code",
   "execution_count": 14,
   "id": "a762997e",
   "metadata": {},
   "outputs": [
    {
     "name": "stdout",
     "output_type": "stream",
     "text": [
      "{'2022-01-01': 1520}\n",
      "{'2022-01-01': 1598}\n",
      "{'2022-01-01': 1742}\n",
      "{'2022-01-01': 1876}\n",
      "{'2022-01-01': 1501}\n",
      "{'2022-01-01': 1875}\n"
     ]
    }
   ],
   "source": [
    "indices_nominas_erte = nominas_empleados(lista_empleados, \"erte\", True)\n",
    "\n",
    "indices_nominas_erte"
   ]
  },
  {
   "cell_type": "code",
   "execution_count": 15,
   "id": "5bc90f73",
   "metadata": {},
   "outputs": [],
   "source": [
    "lista_empleados[3].cambio_situacion(\"erte\", False)"
   ]
  },
  {
   "cell_type": "code",
   "execution_count": 16,
   "id": "9c79d966",
   "metadata": {},
   "outputs": [
    {
     "name": "stdout",
     "output_type": "stream",
     "text": [
      "{'2022-01-01': 1520}\n",
      "{'2022-01-01': 1598}\n",
      "{'2022-01-01': 1742}\n",
      "{'2022-01-01': 1501}\n",
      "{'2022-01-01': 1875}\n"
     ]
    }
   ],
   "source": [
    "indices_nominas_erte = nominas_empleados(lista_empleados, \"erte\", True)\n",
    "\n",
    "indices_nominas_erte"
   ]
  },
  {
   "cell_type": "code",
   "execution_count": 17,
   "id": "67c77f5c",
   "metadata": {},
   "outputs": [
    {
     "name": "stdout",
     "output_type": "stream",
     "text": [
      "46.0\n",
      "41.0\n",
      "37.0\n",
      "45.0\n",
      "35.0\n",
      "27.0\n"
     ]
    }
   ],
   "source": [
    "for empleado in lista_empleados:\n",
    "    print(empleado.edad)"
   ]
  },
  {
   "cell_type": "code",
   "execution_count": 18,
   "id": "d577cd47",
   "metadata": {},
   "outputs": [
    {
     "data": {
      "text/plain": [
       "0.0"
      ]
     },
     "execution_count": 18,
     "metadata": {},
     "output_type": "execute_result"
    }
   ],
   "source": [
    "(datetime.now() - datetime.strptime(\"09-03-2022\", \"%d-%m-%Y\")).days//365.25"
   ]
  },
  {
   "cell_type": "code",
   "execution_count": 19,
   "id": "653f6bfe",
   "metadata": {},
   "outputs": [
    {
     "data": {
      "text/plain": [
       "<__main__.Empleado at 0x23457659430>"
      ]
     },
     "execution_count": 19,
     "metadata": {},
     "output_type": "execute_result"
    }
   ],
   "source": [
    "lista_empleados[0]"
   ]
  },
  {
   "cell_type": "code",
   "execution_count": 20,
   "id": "a2fa6ae1",
   "metadata": {},
   "outputs": [
    {
     "name": "stdout",
     "output_type": "stream",
     "text": [
      "2022-01-01 00:00:00\n"
     ]
    }
   ],
   "source": [
    "print(datetime(2022, 1, 1))"
   ]
  },
  {
   "cell_type": "code",
   "execution_count": 21,
   "id": "9833987d",
   "metadata": {},
   "outputs": [],
   "source": [
    "from datetime import date"
   ]
  },
  {
   "cell_type": "code",
   "execution_count": 22,
   "id": "c5de6e58",
   "metadata": {},
   "outputs": [],
   "source": [
    "fecha = date(datetime(2022, 1, 1).year, datetime(2022, 1, 1).month, datetime(2022, 1, 1).day)"
   ]
  },
  {
   "cell_type": "code",
   "execution_count": 23,
   "id": "34298ade",
   "metadata": {},
   "outputs": [
    {
     "name": "stdout",
     "output_type": "stream",
     "text": [
      "2022-01-01\n"
     ]
    }
   ],
   "source": [
    "print(fecha)"
   ]
  },
  {
   "cell_type": "code",
   "execution_count": 24,
   "id": "374f4b46",
   "metadata": {},
   "outputs": [],
   "source": [
    "import pickle\n",
    "\n"
   ]
  },
  {
   "cell_type": "code",
   "execution_count": null,
   "id": "6cc6e6f8",
   "metadata": {},
   "outputs": [],
   "source": []
  }
 ],
 "metadata": {
  "kernelspec": {
   "display_name": "Python 3",
   "language": "python",
   "name": "python3"
  },
  "language_info": {
   "codemirror_mode": {
    "name": "ipython",
    "version": 3
   },
   "file_extension": ".py",
   "mimetype": "text/x-python",
   "name": "python",
   "nbconvert_exporter": "python",
   "pygments_lexer": "ipython3",
   "version": "3.8.8"
  }
 },
 "nbformat": 4,
 "nbformat_minor": 5
}
